{
 "cells": [
  {
   "cell_type": "markdown",
   "metadata": {},
   "source": [
    "# Test Classifiers and Regressors on train / test data set"
   ]
  },
  {
   "cell_type": "code",
   "execution_count": 1,
   "metadata": {
    "collapsed": false,
    "scrolled": true
   },
   "outputs": [],
   "source": [
    "import operator\n",
    "import numpy as np\n",
    "import math\n",
    "import pandas as pd\n",
    "import ipywidgets as widgets\n",
    "from sklearn.metrics import classification_report\n",
    "from sklearn.model_selection import cross_val_score,cross_val_predict, train_test_split, StratifiedKFold\n",
    "from sklearn.neighbors import KNeighborsClassifier\n",
    "from sklearn.svm import SVC,SVR\n",
    "from sklearn.tree import DecisionTreeClassifier\n",
    "from sklearn.ensemble import RandomForestClassifier, AdaBoostClassifier\n",
    "from sklearn.naive_bayes import GaussianNB\n",
    "from sklearn.discriminant_analysis import LinearDiscriminantAnalysis\n",
    "from sklearn.discriminant_analysis import QuadraticDiscriminantAnalysis\n",
    "from sklearn.metrics import accuracy_score,roc_curve, auc, get_scorer, roc_auc_score\n",
    "from sklearn.preprocessing import label_binarize\n",
    "from sklearn.multiclass import OneVsRestClassifier\n",
    "from scipy.stats import spearmanr, pearsonr\n",
    "from matplotlib import pyplot \n",
    "from sklearn import linear_model,neighbors,tree,gaussian_process,ensemble,neural_network, manifold"
   ]
  },
  {
   "cell_type": "markdown",
   "metadata": {},
   "source": [
    "## Parameters"
   ]
  },
  {
   "cell_type": "code",
   "execution_count": 2,
   "metadata": {
    "collapsed": true,
    "scrolled": true
   },
   "outputs": [],
   "source": [
    "rel = \"../\"\n",
    "train_data_file = rel+\"target/features-train.csv\"\n",
    "sep = ','\n",
    "threshold = 0.5\n",
    "cv_fold=StratifiedKFold(n_splits=3)"
   ]
  },
  {
   "cell_type": "markdown",
   "metadata": {},
   "source": [
    "## Classifiers to test"
   ]
  },
  {
   "cell_type": "code",
   "execution_count": 3,
   "metadata": {
    "collapsed": true
   },
   "outputs": [],
   "source": [
    "classifiers = [\n",
    "    SVC(kernel=\"rbf\", C=0.025, probability = True),\n",
    "    SVC(kernel=\"linear\", C=0.025, probability = True),\n",
    "    SVC(gamma=2, C=1, probability = True,decision_function_shape ='ovr'),\n",
    "    KNeighborsClassifier(3),\n",
    "    KNeighborsClassifier(5),\n",
    "    KNeighborsClassifier(7),\n",
    "    DecisionTreeClassifier(max_depth=5,max_features=5),\n",
    "    DecisionTreeClassifier(max_depth=10,max_features=5),\n",
    "    DecisionTreeClassifier(max_depth=15,max_features=5),\n",
    "    RandomForestClassifier(max_depth=5, n_estimators=10),\n",
    "    RandomForestClassifier(max_depth=10, n_estimators=10),\n",
    "    RandomForestClassifier(max_depth=15, n_estimators=10),\n",
    "    RandomForestClassifier(max_depth=15, n_estimators=20),\n",
    "    RandomForestClassifier(max_depth=15, n_estimators=30),\n",
    "    RandomForestClassifier(n_estimators=30),\n",
    "    AdaBoostClassifier(),\n",
    "    GaussianNB(),\n",
    "    LinearDiscriminantAnalysis(),\n",
    "    QuadraticDiscriminantAnalysis(),\n",
    "    neural_network.MLPClassifier(activation='logistic',solver='lbfgs',max_iter=200)\n",
    "]\n",
    "\n"
   ]
  },
  {
   "cell_type": "markdown",
   "metadata": {},
   "source": [
    "## Regressors to test"
   ]
  },
  {
   "cell_type": "code",
   "execution_count": 4,
   "metadata": {
    "collapsed": true
   },
   "outputs": [],
   "source": [
    "regressors = [\n",
    "    SVR(kernel=\"rbf\", C=0.025),\n",
    "    SVR(kernel=\"linear\", C=0.025),\n",
    "    SVR(gamma=2, C=1),\n",
    "    linear_model.LinearRegression(),\n",
    "    linear_model.Ridge(alpha = .5),\n",
    "    linear_model.ElasticNet(),\n",
    "    linear_model.BayesianRidge(),\n",
    "    ensemble.RandomForestRegressor(),\n",
    "    ensemble.GradientBoostingRegressor(),\n",
    "    ensemble.ExtraTreesRegressor(),\n",
    "    ensemble.BaggingRegressor(),\n",
    "    ensemble.AdaBoostRegressor(),\n",
    "    gaussian_process.GaussianProcessRegressor(),\n",
    "    linear_model.HuberRegressor(),\n",
    "    linear_model.PassiveAggressiveRegressor(),\n",
    "    #linear_model.RANSACRegressor(residual_threshold=0.02),\n",
    "    linear_model.TheilSenRegressor(),\n",
    "    linear_model.SGDRegressor(),\n",
    "    neighbors.KNeighborsRegressor(),\n",
    "    tree.DecisionTreeRegressor(),\n",
    "    tree.ExtraTreeRegressor(),\n",
    "    neural_network.MLPRegressor()\n",
    "    \n",
    "]"
   ]
  },
  {
   "cell_type": "markdown",
   "metadata": {},
   "source": [
    "## Load data"
   ]
  },
  {
   "cell_type": "code",
   "execution_count": 5,
   "metadata": {
    "collapsed": true,
    "scrolled": false
   },
   "outputs": [],
   "source": [
    "def parse(data_file, sep):\n",
    "    data = np.genfromtxt(data_file, delimiter=sep)  # Load data from csv\n",
    "    data = data[1:,]\n",
    "    #data = data[~np.isnan(data).any(axis=1)] #Drop NANS\n",
    "    x = data[:, :-1]  # Obtain labels from data\n",
    "    y = np.array(data[:, -1], dtype=np.dtype(np.int16))\n",
    "    return x,y"
   ]
  },
  {
   "cell_type": "code",
   "execution_count": 6,
   "metadata": {
    "collapsed": false,
    "scrolled": false
   },
   "outputs": [],
   "source": [
    "x_train,y_train = parse(train_data_file,sep=sep)"
   ]
  },
  {
   "cell_type": "code",
   "execution_count": 7,
   "metadata": {
    "collapsed": false
   },
   "outputs": [
    {
     "data": {
      "text/plain": [
       "array([1, 0, 1, 0, 0, 0, 0, 1, 1, 0, 0, 0, 0, 0, 0, 0, 0, 0, 0, 1, 1, 0, 0,\n",
       "       1, 1, 0, 0, 0, 0, 0, 0, 0, 0, 0, 0, 1, 0, 1, 0, 0, 0, 1, 0, 0, 0, 0,\n",
       "       0, 1, 0, 0, 1, 0, 0, 0, 0, 0, 1, 0, 0, 1, 0, 0, 0, 0, 1, 0, 0, 0, 0,\n",
       "       0, 0, 0, 0, 1, 0, 1, 0, 0, 0, 0, 0, 0, 0, 0, 0, 0, 0, 0, 0, 1, 0, 0,\n",
       "       0, 0, 0, 0, 0, 0, 1, 0, 0, 0, 0, 0, 1, 1, 0, 0, 0, 1, 0, 0, 0, 0, 0,\n",
       "       0, 0, 0, 0, 0, 0, 0, 0, 0, 0, 0, 0, 1, 0, 0, 0, 1, 1, 0, 0, 1, 0, 1,\n",
       "       0, 0, 0, 0, 0, 0, 1, 1, 0, 1, 0, 1, 0, 0, 1, 0, 0, 0, 0, 0, 0, 0, 1,\n",
       "       0, 0, 1, 0, 1, 0, 1, 0, 1, 0, 1, 0, 0, 0, 1, 0, 0, 1, 0, 1, 0, 1, 1,\n",
       "       1, 0, 0, 1, 0, 0, 0, 1, 0, 0, 0, 0, 0, 0, 0, 0, 0, 0, 0, 0, 0, 0, 0,\n",
       "       1, 0, 0, 0, 0, 0, 0, 0, 0, 0, 0, 1, 0, 0, 0, 0, 0, 0, 0, 0, 0, 0, 0,\n",
       "       0, 0, 0, 0, 0, 0, 0, 0, 0, 0, 0, 0, 0, 0, 0, 0, 0, 0, 0, 0, 0, 0, 0,\n",
       "       1, 0, 0, 0, 0, 0, 1, 0, 0, 0, 0, 0, 0, 0, 0, 0, 0, 0, 0, 0, 0, 0, 0,\n",
       "       0, 0, 0, 1, 1, 0, 1, 0, 1, 0, 1, 0, 1, 0, 1, 0, 0, 0, 0, 0, 0, 1, 0,\n",
       "       1, 0, 0, 0, 0, 1, 1, 1, 1, 1, 1, 1, 1, 1, 1, 1, 0, 1, 1, 0, 1, 1], dtype=int16)"
      ]
     },
     "execution_count": 7,
     "metadata": {},
     "output_type": "execute_result"
    }
   ],
   "source": [
    "y_train"
   ]
  },
  {
   "cell_type": "code",
   "execution_count": 8,
   "metadata": {
    "collapsed": false,
    "scrolled": false
   },
   "outputs": [
    {
     "data": {
      "text/html": [
       "<div>\n",
       "<table border=\"1\" class=\"dataframe\">\n",
       "  <thead>\n",
       "    <tr style=\"text-align: right;\">\n",
       "      <th></th>\n",
       "      <th>0</th>\n",
       "      <th>1</th>\n",
       "      <th>2</th>\n",
       "      <th>3</th>\n",
       "      <th>4</th>\n",
       "      <th>5</th>\n",
       "      <th>6</th>\n",
       "      <th>7</th>\n",
       "      <th>8</th>\n",
       "      <th>9</th>\n",
       "      <th>...</th>\n",
       "      <th>157</th>\n",
       "      <th>158</th>\n",
       "      <th>159</th>\n",
       "      <th>160</th>\n",
       "      <th>161</th>\n",
       "      <th>162</th>\n",
       "      <th>163</th>\n",
       "      <th>164</th>\n",
       "      <th>165</th>\n",
       "      <th>166</th>\n",
       "    </tr>\n",
       "  </thead>\n",
       "  <tbody>\n",
       "    <tr>\n",
       "      <th>0</th>\n",
       "      <td>63.0</td>\n",
       "      <td>1.0</td>\n",
       "      <td>0.270006</td>\n",
       "      <td>238.096175</td>\n",
       "      <td>0.785493</td>\n",
       "      <td>7.069741</td>\n",
       "      <td>0.519621</td>\n",
       "      <td>0.577098</td>\n",
       "      <td>0.012593</td>\n",
       "      <td>106.222222</td>\n",
       "      <td>...</td>\n",
       "      <td>28.278799</td>\n",
       "      <td>-0.443347</td>\n",
       "      <td>19.538462</td>\n",
       "      <td>22.264758</td>\n",
       "      <td>18.175313</td>\n",
       "      <td>33.737925</td>\n",
       "      <td>40.337835</td>\n",
       "      <td>42.944857</td>\n",
       "      <td>0.634094</td>\n",
       "      <td>7.804558</td>\n",
       "    </tr>\n",
       "    <tr>\n",
       "      <th>1</th>\n",
       "      <td>67.0</td>\n",
       "      <td>2.0</td>\n",
       "      <td>0.324528</td>\n",
       "      <td>111.296400</td>\n",
       "      <td>0.861909</td>\n",
       "      <td>4.695538</td>\n",
       "      <td>0.569673</td>\n",
       "      <td>0.624340</td>\n",
       "      <td>0.011852</td>\n",
       "      <td>139.955556</td>\n",
       "      <td>...</td>\n",
       "      <td>24.866574</td>\n",
       "      <td>0.018879</td>\n",
       "      <td>10.987928</td>\n",
       "      <td>17.142019</td>\n",
       "      <td>9.028840</td>\n",
       "      <td>30.706573</td>\n",
       "      <td>39.965392</td>\n",
       "      <td>45.156975</td>\n",
       "      <td>0.553380</td>\n",
       "      <td>10.678461</td>\n",
       "    </tr>\n",
       "    <tr>\n",
       "      <th>2</th>\n",
       "      <td>61.0</td>\n",
       "      <td>1.0</td>\n",
       "      <td>0.271143</td>\n",
       "      <td>190.308211</td>\n",
       "      <td>0.863498</td>\n",
       "      <td>6.624297</td>\n",
       "      <td>0.520714</td>\n",
       "      <td>0.573309</td>\n",
       "      <td>0.030864</td>\n",
       "      <td>334.288889</td>\n",
       "      <td>...</td>\n",
       "      <td>31.700592</td>\n",
       "      <td>-0.073790</td>\n",
       "      <td>18.476980</td>\n",
       "      <td>22.453039</td>\n",
       "      <td>16.939180</td>\n",
       "      <td>40.023711</td>\n",
       "      <td>48.309116</td>\n",
       "      <td>57.185083</td>\n",
       "      <td>0.777455</td>\n",
       "      <td>12.195809</td>\n",
       "    </tr>\n",
       "    <tr>\n",
       "      <th>3</th>\n",
       "      <td>61.0</td>\n",
       "      <td>1.0</td>\n",
       "      <td>0.281700</td>\n",
       "      <td>181.636295</td>\n",
       "      <td>0.821772</td>\n",
       "      <td>6.475441</td>\n",
       "      <td>0.530754</td>\n",
       "      <td>0.580574</td>\n",
       "      <td>0.012099</td>\n",
       "      <td>175.022222</td>\n",
       "      <td>...</td>\n",
       "      <td>44.155304</td>\n",
       "      <td>0.313876</td>\n",
       "      <td>30.978177</td>\n",
       "      <td>39.497468</td>\n",
       "      <td>26.657136</td>\n",
       "      <td>50.285451</td>\n",
       "      <td>54.261510</td>\n",
       "      <td>56.021501</td>\n",
       "      <td>-0.777199</td>\n",
       "      <td>8.753685</td>\n",
       "    </tr>\n",
       "    <tr>\n",
       "      <th>4</th>\n",
       "      <td>70.0</td>\n",
       "      <td>3.0</td>\n",
       "      <td>0.205839</td>\n",
       "      <td>184.092051</td>\n",
       "      <td>0.867989</td>\n",
       "      <td>6.410386</td>\n",
       "      <td>0.453695</td>\n",
       "      <td>0.526343</td>\n",
       "      <td>0.011358</td>\n",
       "      <td>54.300000</td>\n",
       "      <td>...</td>\n",
       "      <td>19.798736</td>\n",
       "      <td>0.012891</td>\n",
       "      <td>14.852977</td>\n",
       "      <td>16.916246</td>\n",
       "      <td>13.449697</td>\n",
       "      <td>22.170535</td>\n",
       "      <td>24.733602</td>\n",
       "      <td>26.156105</td>\n",
       "      <td>0.260199</td>\n",
       "      <td>3.960624</td>\n",
       "    </tr>\n",
       "  </tbody>\n",
       "</table>\n",
       "<p>5 rows × 167 columns</p>\n",
       "</div>"
      ],
      "text/plain": [
       "    0    1         2           3         4         5         6         7    \\\n",
       "0  63.0  1.0  0.270006  238.096175  0.785493  7.069741  0.519621  0.577098   \n",
       "1  67.0  2.0  0.324528  111.296400  0.861909  4.695538  0.569673  0.624340   \n",
       "2  61.0  1.0  0.271143  190.308211  0.863498  6.624297  0.520714  0.573309   \n",
       "3  61.0  1.0  0.281700  181.636295  0.821772  6.475441  0.530754  0.580574   \n",
       "4  70.0  3.0  0.205839  184.092051  0.867989  6.410386  0.453695  0.526343   \n",
       "\n",
       "        8           9      ...            157       158        159        160  \\\n",
       "0  0.012593  106.222222    ...      28.278799 -0.443347  19.538462  22.264758   \n",
       "1  0.011852  139.955556    ...      24.866574  0.018879  10.987928  17.142019   \n",
       "2  0.030864  334.288889    ...      31.700592 -0.073790  18.476980  22.453039   \n",
       "3  0.012099  175.022222    ...      44.155304  0.313876  30.978177  39.497468   \n",
       "4  0.011358   54.300000    ...      19.798736  0.012891  14.852977  16.916246   \n",
       "\n",
       "         161        162        163        164       165        166  \n",
       "0  18.175313  33.737925  40.337835  42.944857  0.634094   7.804558  \n",
       "1   9.028840  30.706573  39.965392  45.156975  0.553380  10.678461  \n",
       "2  16.939180  40.023711  48.309116  57.185083  0.777455  12.195809  \n",
       "3  26.657136  50.285451  54.261510  56.021501 -0.777199   8.753685  \n",
       "4  13.449697  22.170535  24.733602  26.156105  0.260199   3.960624  \n",
       "\n",
       "[5 rows x 167 columns]"
      ]
     },
     "execution_count": 8,
     "metadata": {},
     "output_type": "execute_result"
    }
   ],
   "source": [
    "train_pd = pd.DataFrame(x_train)\n",
    "train_pd.head()"
   ]
  },
  {
   "cell_type": "markdown",
   "metadata": {},
   "source": [
    "# Represent data"
   ]
  },
  {
   "cell_type": "raw",
   "metadata": {},
   "source": [
    "### Train"
   ]
  },
  {
   "cell_type": "raw",
   "metadata": {},
   "source": [
    "mds = manifold.MDS(n_components=2)\n",
    "x_train_2d = mds.fit_transform(x_train)"
   ]
  },
  {
   "cell_type": "raw",
   "metadata": {},
   "source": [
    "y_train_color = ['r' if bool(v) else 'g' for v in y_train_class]  \n",
    "pyplot.scatter(x_train_2d[:,0],x_train_2d[:,1],c=y_train_color)\n",
    "pyplot.show()"
   ]
  },
  {
   "cell_type": "markdown",
   "metadata": {},
   "source": [
    "### Roc curve generator"
   ]
  },
  {
   "cell_type": "code",
   "execution_count": 9,
   "metadata": {
    "collapsed": true
   },
   "outputs": [],
   "source": [
    "def roc_auc_score(y_test,y_score):\n",
    "    fpr, tpr, _ = roc_curve(y_test, y_score)\n",
    "    return auc(fpr, tpr)"
   ]
  },
  {
   "cell_type": "code",
   "execution_count": 10,
   "metadata": {
    "collapsed": true
   },
   "outputs": [],
   "source": [
    "def plot_roc_curve(y_test, y_score):\n",
    "    # Compute ROC curve and ROC area for each class\n",
    "    fpr = dict()\n",
    "    tpr = dict()\n",
    "    roc_auc = dict()\n",
    "    # Compute micro-average ROC curve and ROC area\n",
    "    fpr[\"micro\"], tpr[\"micro\"], _ = roc_curve(y_test.ravel(), y_score.ravel())\n",
    "    roc_auc[\"micro\"] = auc(fpr[\"micro\"], tpr[\"micro\"])\n",
    "    pyplot.figure()\n",
    "    lw = 2\n",
    "    pyplot.plot(fpr[\"micro\"],tpr[\"micro\"], color='darkorange', lw=lw, label='ROC curve (area = %0.2f)' % roc_auc[\"micro\"])\n",
    "    pyplot.plot([0, 1], [0, 1], color='navy', lw=lw, linestyle='--')\n",
    "    pyplot.xlim([0.0, 1.0])\n",
    "    pyplot.ylim([0.0, 1.05])\n",
    "    pyplot.xlabel('False Positive Rate')\n",
    "    pyplot.ylabel('True Positive Rate')\n",
    "    pyplot.title('Receiver operating characteristic')\n",
    "    pyplot.legend(loc=\"lower right\")\n",
    "    pyplot.show()"
   ]
  },
  {
   "cell_type": "markdown",
   "metadata": {},
   "source": [
    "## Score classifiers"
   ]
  },
  {
   "cell_type": "code",
   "execution_count": 11,
   "metadata": {
    "collapsed": false,
    "scrolled": true
   },
   "outputs": [
    {
     "name": "stderr",
     "output_type": "stream",
     "text": [
      "D:\\Anaconda3\\lib\\site-packages\\sklearn\\discriminant_analysis.py:695: UserWarning: Variables are collinear\n",
      "  warnings.warn(\"Variables are collinear\")\n",
      "D:\\Anaconda3\\lib\\site-packages\\sklearn\\discriminant_analysis.py:695: UserWarning: Variables are collinear\n",
      "  warnings.warn(\"Variables are collinear\")\n",
      "D:\\Anaconda3\\lib\\site-packages\\sklearn\\discriminant_analysis.py:695: UserWarning: Variables are collinear\n",
      "  warnings.warn(\"Variables are collinear\")\n"
     ]
    }
   ],
   "source": [
    "classifiers_scores = []\n",
    "classifiers_predictions = []\n",
    "# iterate over classifiers\n",
    "for clf in classifiers:\n",
    "    y_score = cross_val_predict(clf, x_train,y_train, cv=cv_fold,method='predict_proba')\n",
    "    classifiers_scores.append(roc_auc_score(y_train,y_score[:,1]))\n",
    "    classifiers_predictions.append(y_score)"
   ]
  },
  {
   "cell_type": "code",
   "execution_count": 12,
   "metadata": {
    "collapsed": false
   },
   "outputs": [],
   "source": [
    "classifiers = [cls for score, cls in sorted(zip(classifiers_scores,classifiers),key=operator.itemgetter(0), reverse=True)]\n",
    "classifiers_predictions = [cls for score, cls in sorted(zip(classifiers_scores,classifiers_predictions),key=operator.itemgetter(0), reverse=True)]"
   ]
  },
  {
   "cell_type": "markdown",
   "metadata": {},
   "source": [
    "## The best classifier"
   ]
  },
  {
   "cell_type": "code",
   "execution_count": 13,
   "metadata": {
    "collapsed": true
   },
   "outputs": [],
   "source": [
    "from sklearn.metrics import *\n",
    "def showClassifier(idx,classifiers,predictions):\n",
    "    print(idx)\n",
    "    cls = classifiers[idx]\n",
    "    print(cls)\n",
    "    y_score = predictions[idx]\n",
    "    y_score_bin = y_score[:,1] > 0.5   \n",
    "    print(classification_report(y_train, y_score_bin ))\n",
    "    plot_roc_curve(y_train,y_score[:,1])\n"
   ]
  },
  {
   "cell_type": "code",
   "execution_count": 14,
   "metadata": {
    "collapsed": false
   },
   "outputs": [
    {
     "name": "stdout",
     "output_type": "stream",
     "text": [
      "0\n",
      "RandomForestClassifier(bootstrap=True, class_weight=None, criterion='gini',\n",
      "            max_depth=15, max_features='auto', max_leaf_nodes=None,\n",
      "            min_impurity_split=1e-07, min_samples_leaf=1,\n",
      "            min_samples_split=2, min_weight_fraction_leaf=0.0,\n",
      "            n_estimators=20, n_jobs=1, oob_score=False, random_state=None,\n",
      "            verbose=0, warm_start=False)\n",
      "             precision    recall  f1-score   support\n",
      "\n",
      "          0       0.79      0.96      0.87       246\n",
      "          1       0.54      0.17      0.26        75\n",
      "\n",
      "avg / total       0.73      0.77      0.72       321\n",
      "\n"
     ]
    },
    {
     "data": {
      "image/png": "[encoded data removed]",
      "text/plain": [
       "<matplotlib.figure.Figure at 0x170e9b39668>"
      ]
     },
     "metadata": {},
     "output_type": "display_data"
    },
    {
     "data": {
      "text/plain": [
       "<function __main__.showClassifier>"
      ]
     },
     "execution_count": 14,
     "metadata": {},
     "output_type": "execute_result"
    }
   ],
   "source": [
    "class_id = widgets.Dropdown(\n",
    "    options=[(type(cls).__name__ +' - '+str(idx+1),idx) for idx,cls in enumerate(classifiers)],\n",
    "    description='Classifier:'\n",
    ")\n",
    "\n",
    "widgets.interact(showClassifier,idx=class_id,classifiers=widgets.fixed(classifiers),predictions=widgets.fixed(classifiers_predictions))"
   ]
  },
  {
   "cell_type": "markdown",
   "metadata": {},
   "source": [
    "## Score regressors"
   ]
  },
  {
   "cell_type": "raw",
   "metadata": {
    "collapsed": false,
    "scrolled": false
   },
   "source": [
    "regressors_predictions = []\n",
    "regressors_scores = []\n",
    "for rgs in regressors:\n",
    "    y_score = cross_val_predict(rgs, x_train,y_train, cv=cv_fold)\n",
    "    regressors_scores.append(roc_auc_score(y_train,y_score))\n",
    "    regressors_predictions.append(y_score)"
   ]
  },
  {
   "cell_type": "raw",
   "metadata": {
    "collapsed": false
   },
   "source": [
    "regressors = [cls for score, cls in sorted(zip(regressors_scores,regressors),key=operator.itemgetter(0), reverse=True)]\n",
    "regressors_predictions = [cls for score, cls in sorted(zip(regressors_scores,regressors_predictions),key=operator.itemgetter(0), reverse=True)]"
   ]
  },
  {
   "cell_type": "markdown",
   "metadata": {},
   "source": [
    "## The best regressor"
   ]
  },
  {
   "cell_type": "raw",
   "metadata": {
    "collapsed": true
   },
   "source": [
    "from sklearn.metrics import *\n",
    "def showRegressor(idx,regressors,predictions):\n",
    "    print(idx)\n",
    "    cls = regressors[idx]\n",
    "    print(cls)\n",
    "    y_score = predictions[idx]\n",
    "    y_score_bin = y_score > 0.5   \n",
    "    print(classification_report(y_train, y_score_bin ))\n",
    "    plot_roc_curve(y_train,y_score)\n"
   ]
  },
  {
   "cell_type": "raw",
   "metadata": {
    "collapsed": false
   },
   "source": [
    "regressor_id = widgets.Dropdown(\n",
    "    options=[(type(cls).__name__ +' - '+ str(idx+1),idx) for idx,cls in enumerate(regressors)],\n",
    "    description='Regressor:'\n",
    ")\n",
    "\n",
    "widgets.interact(showRegressor,idx=regressor_id,regressors=widgets.fixed(regressors),predictions=widgets.fixed(regressors_predictions))"
   ]
  }
 ],
 "metadata": {
  "anaconda-cloud": {},
  "kernelspec": {
   "display_name": "Python [conda root]",
   "language": "python",
   "name": "conda-root-py"
  },
  "language_info": {
   "codemirror_mode": {
    "name": "ipython",
    "version": 3
   },
   "file_extension": ".py",
   "mimetype": "text/x-python",
   "name": "python",
   "nbconvert_exporter": "python",
   "pygments_lexer": "ipython3",
   "version": "3.5.2"
  },
  "widgets": {
   "state": {
    "67bab463da644e6d9d7344f75d7f623e": {
     "views": [
      {
       "cell_index": 25
      }
     ]
    }
   },
   "version": "1.2.0"
  }
 },
 "nbformat": 4,
 "nbformat_minor": 1
}
